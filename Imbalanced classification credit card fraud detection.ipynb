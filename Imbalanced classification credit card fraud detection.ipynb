{
 "cells": [
  {
   "cell_type": "code",
   "execution_count": 11,
   "id": "ebb0fd16",
   "metadata": {},
   "outputs": [],
   "source": [
    "import csv\n",
    "import numpy as np"
   ]
  },
  {
   "cell_type": "code",
   "execution_count": 12,
   "id": "3e701b63",
   "metadata": {},
   "outputs": [
    {
     "name": "stdout",
     "output_type": "stream",
     "text": [
      "HEADER: \"Time\",\"V1\",\"V2\",\"V3\",\"V4\",\"V5\",\"V6\",\"V7\",\"V8\",\"V9\",\"V10\",\"V11\",\"V12\",\"V13\",\"V14\",\"V15\",\"V16\",\"V17\",\"V18\",\"V19\",\"V20\",\"V21\",\"V22\",\"V23\",\"V24\",\"V25\",\"V26\",\"V27\",\"V28\",\"Amount\",\"Class\"\n",
      "EXAMPLE FEATURES: [0.0, -1.3598071336738, -0.0727811733098497, 2.53634673796914, 1.37815522427443, -0.338320769942518, 0.462387777762292, 0.239598554061257, 0.0986979012610507, 0.363786969611213, 0.0907941719789316, -0.551599533260813, -0.617800855762348, -0.991389847235408, -0.311169353699879, 1.46817697209427, -0.470400525259478, 0.207971241929242, 0.0257905801985591, 0.403992960255733, 0.251412098239705, -0.018306777944153, 0.277837575558899, -0.110473910188767, 0.0669280749146731, 0.128539358273528, -0.189114843888824, 0.133558376740387, -0.0210530534538215, 149.62]\n",
      "features.shape: (284807, 30)\n",
      "targets.shape: (284807, 1)\n"
     ]
    }
   ],
   "source": [
    "# Get the real data from https://www.kaggle.com/mlg-ulb/creditcardfraud/\n",
    "#in my case the file is in C:\\creditcard.csv\n",
    "fname = \"C:\\creditcard.csv\"\n",
    "\n",
    "all_features = []\n",
    "all_targets = []\n",
    "with open(fname) as f:\n",
    "    for i, line in enumerate(f):\n",
    "        if i == 0:\n",
    "            print(\"HEADER:\", line.strip())\n",
    "            continue  # Skip header\n",
    "        fields = line.strip().split(\",\")\n",
    "        all_features.append([float(v.replace('\"', \"\")) for v in fields[:-1]])\n",
    "        all_targets.append([int(fields[-1].replace('\"', \"\"))])\n",
    "        if i == 1:\n",
    "            print(\"EXAMPLE FEATURES:\", all_features[-1])\n",
    "\n",
    "features = np.array(all_features, dtype=\"float32\")\n",
    "targets = np.array(all_targets, dtype=\"uint8\")\n",
    "print(\"features.shape:\", features.shape)\n",
    "print(\"targets.shape:\", targets.shape)"
   ]
  },
  {
   "cell_type": "markdown",
   "id": "40c9eda4",
   "metadata": {},
   "source": [
    "# Prepare a validation set"
   ]
  },
  {
   "cell_type": "code",
   "execution_count": 13,
   "id": "4faf8279",
   "metadata": {},
   "outputs": [
    {
     "name": "stdout",
     "output_type": "stream",
     "text": [
      "Number of training samples: 227846\n",
      "Number of validation samples: 56961\n"
     ]
    }
   ],
   "source": [
    "num_val_samples = int(len(features) * 0.2)\n",
    "train_features = features[:-num_val_samples]\n",
    "train_targets = targets[:-num_val_samples]\n",
    "val_features = features[-num_val_samples:]\n",
    "val_targets = targets[-num_val_samples:]\n",
    "\n",
    "print(\"Number of training samples:\", len(train_features))\n",
    "print(\"Number of validation samples:\", len(val_features))"
   ]
  },
  {
   "cell_type": "markdown",
   "id": "8416ea36",
   "metadata": {},
   "source": [
    "# Analyze class imbalance in the targets"
   ]
  },
  {
   "cell_type": "code",
   "execution_count": 14,
   "id": "171bf226",
   "metadata": {},
   "outputs": [
    {
     "name": "stdout",
     "output_type": "stream",
     "text": [
      "Number of positive samples in training data: 417 (0.18% of total)\n"
     ]
    }
   ],
   "source": [
    "counts = np.bincount(train_targets[:, 0])\n",
    "print(\n",
    "    \"Number of positive samples in training data: {} ({:.2f}% of total)\".format(\n",
    "        counts[1], 100 * float(counts[1]) / len(train_targets)\n",
    "    )\n",
    ")\n",
    "\n",
    "weight_for_0 = 1.0 / counts[0]\n",
    "weight_for_1 = 1.0 / counts[1]"
   ]
  },
  {
   "cell_type": "markdown",
   "id": "d4fe65d1",
   "metadata": {},
   "source": [
    "# Normalize the data using training set statistics"
   ]
  },
  {
   "cell_type": "code",
   "execution_count": 15,
   "id": "0a7c4c2b",
   "metadata": {},
   "outputs": [],
   "source": [
    "mean = np.mean(train_features, axis=0)\n",
    "train_features -= mean\n",
    "val_features -= mean\n",
    "std = np.std(train_features, axis=0)\n",
    "train_features /= std\n",
    "val_features /= std"
   ]
  },
  {
   "cell_type": "markdown",
   "id": "aab2299f",
   "metadata": {},
   "source": [
    "# Build a binary classification model"
   ]
  },
  {
   "cell_type": "code",
   "execution_count": 16,
   "id": "120600af",
   "metadata": {},
   "outputs": [
    {
     "name": "stdout",
     "output_type": "stream",
     "text": [
      "Model: \"sequential\"\n",
      "_________________________________________________________________\n",
      " Layer (type)                Output Shape              Param #   \n",
      "=================================================================\n",
      " dense (Dense)               (None, 256)               7936      \n",
      "                                                                 \n",
      " dense_1 (Dense)             (None, 256)               65792     \n",
      "                                                                 \n",
      " dropout (Dropout)           (None, 256)               0         \n",
      "                                                                 \n",
      " dense_2 (Dense)             (None, 256)               65792     \n",
      "                                                                 \n",
      " dropout_1 (Dropout)         (None, 256)               0         \n",
      "                                                                 \n",
      " dense_3 (Dense)             (None, 1)                 257       \n",
      "                                                                 \n",
      "=================================================================\n",
      "Total params: 139,777\n",
      "Trainable params: 139,777\n",
      "Non-trainable params: 0\n",
      "_________________________________________________________________\n"
     ]
    }
   ],
   "source": [
    "from tensorflow import keras\n",
    "\n",
    "model = keras.Sequential(\n",
    "    [\n",
    "        keras.layers.Dense(\n",
    "            256, activation=\"relu\", input_shape=(train_features.shape[-1],)\n",
    "        ),\n",
    "        keras.layers.Dense(256, activation=\"relu\"),\n",
    "        keras.layers.Dropout(0.3),\n",
    "        keras.layers.Dense(256, activation=\"relu\"),\n",
    "        keras.layers.Dropout(0.3),\n",
    "        keras.layers.Dense(1, activation=\"sigmoid\"),\n",
    "    ]\n",
    ")\n",
    "model.summary()"
   ]
  },
  {
   "cell_type": "markdown",
   "id": "e86d45fd",
   "metadata": {},
   "source": [
    "# Train the model with class_weight argument"
   ]
  },
  {
   "cell_type": "code",
   "execution_count": 17,
   "id": "85f719a0",
   "metadata": {},
   "outputs": [
    {
     "name": "stdout",
     "output_type": "stream",
     "text": [
      "Epoch 1/30\n",
      "112/112 - 11s - loss: 2.2723e-06 - fn: 41.0000 - fp: 30620.0000 - tn: 196809.0000 - tp: 376.0000 - precision: 0.0121 - recall: 0.9017 - val_loss: 0.0896 - val_fn: 9.0000 - val_fp: 590.0000 - val_tn: 56296.0000 - val_tp: 66.0000 - val_precision: 0.1006 - val_recall: 0.8800 - 11s/epoch - 100ms/step\n",
      "Epoch 2/30\n",
      "112/112 - 7s - loss: 1.6055e-06 - fn: 37.0000 - fp: 7372.0000 - tn: 220057.0000 - tp: 380.0000 - precision: 0.0490 - recall: 0.9113 - val_loss: 0.1206 - val_fn: 6.0000 - val_fp: 2305.0000 - val_tn: 54581.0000 - val_tp: 69.0000 - val_precision: 0.0291 - val_recall: 0.9200 - 7s/epoch - 65ms/step\n",
      "Epoch 3/30\n",
      "112/112 - 7s - loss: 1.2073e-06 - fn: 29.0000 - fp: 6055.0000 - tn: 221374.0000 - tp: 388.0000 - precision: 0.0602 - recall: 0.9305 - val_loss: 0.0796 - val_fn: 8.0000 - val_fp: 1617.0000 - val_tn: 55269.0000 - val_tp: 67.0000 - val_precision: 0.0398 - val_recall: 0.8933 - 7s/epoch - 62ms/step\n",
      "Epoch 4/30\n",
      "112/112 - 7s - loss: 1.0670e-06 - fn: 22.0000 - fp: 7984.0000 - tn: 219445.0000 - tp: 395.0000 - precision: 0.0471 - recall: 0.9472 - val_loss: 0.0864 - val_fn: 6.0000 - val_fp: 1341.0000 - val_tn: 55545.0000 - val_tp: 69.0000 - val_precision: 0.0489 - val_recall: 0.9200 - 7s/epoch - 64ms/step\n",
      "Epoch 5/30\n",
      "112/112 - 7s - loss: 1.0567e-06 - fn: 23.0000 - fp: 7310.0000 - tn: 220119.0000 - tp: 394.0000 - precision: 0.0511 - recall: 0.9448 - val_loss: 0.0724 - val_fn: 7.0000 - val_fp: 901.0000 - val_tn: 55985.0000 - val_tp: 68.0000 - val_precision: 0.0702 - val_recall: 0.9067 - 7s/epoch - 61ms/step\n",
      "Epoch 6/30\n",
      "112/112 - 7s - loss: 7.9691e-07 - fn: 18.0000 - fp: 6591.0000 - tn: 220838.0000 - tp: 399.0000 - precision: 0.0571 - recall: 0.9568 - val_loss: 0.1790 - val_fn: 4.0000 - val_fp: 4279.0000 - val_tn: 52607.0000 - val_tp: 71.0000 - val_precision: 0.0163 - val_recall: 0.9467 - 7s/epoch - 62ms/step\n",
      "Epoch 7/30\n",
      "112/112 - 7s - loss: 8.0251e-07 - fn: 17.0000 - fp: 7549.0000 - tn: 219880.0000 - tp: 400.0000 - precision: 0.0503 - recall: 0.9592 - val_loss: 0.0600 - val_fn: 8.0000 - val_fp: 1380.0000 - val_tn: 55506.0000 - val_tp: 67.0000 - val_precision: 0.0463 - val_recall: 0.8933 - 7s/epoch - 62ms/step\n",
      "Epoch 8/30\n",
      "112/112 - 7s - loss: 8.3400e-07 - fn: 15.0000 - fp: 8405.0000 - tn: 219024.0000 - tp: 402.0000 - precision: 0.0456 - recall: 0.9640 - val_loss: 0.0848 - val_fn: 4.0000 - val_fp: 2008.0000 - val_tn: 54878.0000 - val_tp: 71.0000 - val_precision: 0.0342 - val_recall: 0.9467 - 7s/epoch - 59ms/step\n",
      "Epoch 9/30\n",
      "112/112 - 7s - loss: 7.6087e-07 - fn: 12.0000 - fp: 6325.0000 - tn: 221104.0000 - tp: 405.0000 - precision: 0.0602 - recall: 0.9712 - val_loss: 0.5131 - val_fn: 5.0000 - val_fp: 8110.0000 - val_tn: 48776.0000 - val_tp: 70.0000 - val_precision: 0.0086 - val_recall: 0.9333 - 7s/epoch - 64ms/step\n",
      "Epoch 10/30\n",
      "112/112 - 7s - loss: 1.8060e-06 - fn: 20.0000 - fp: 7546.0000 - tn: 219883.0000 - tp: 397.0000 - precision: 0.0500 - recall: 0.9520 - val_loss: 0.0842 - val_fn: 9.0000 - val_fp: 960.0000 - val_tn: 55926.0000 - val_tp: 66.0000 - val_precision: 0.0643 - val_recall: 0.8800 - 7s/epoch - 60ms/step\n",
      "Epoch 11/30\n",
      "112/112 - 7s - loss: 9.7971e-07 - fn: 14.0000 - fp: 8515.0000 - tn: 218914.0000 - tp: 403.0000 - precision: 0.0452 - recall: 0.9664 - val_loss: 0.0673 - val_fn: 7.0000 - val_fp: 1064.0000 - val_tn: 55822.0000 - val_tp: 68.0000 - val_precision: 0.0601 - val_recall: 0.9067 - 7s/epoch - 64ms/step\n",
      "Epoch 12/30\n",
      "112/112 - 7s - loss: 6.2843e-07 - fn: 9.0000 - fp: 4868.0000 - tn: 222561.0000 - tp: 408.0000 - precision: 0.0773 - recall: 0.9784 - val_loss: 0.1246 - val_fn: 4.0000 - val_fp: 2908.0000 - val_tn: 53978.0000 - val_tp: 71.0000 - val_precision: 0.0238 - val_recall: 0.9467 - 7s/epoch - 62ms/step\n",
      "Epoch 13/30\n",
      "112/112 - 7s - loss: 5.9950e-07 - fn: 6.0000 - fp: 6886.0000 - tn: 220543.0000 - tp: 411.0000 - precision: 0.0563 - recall: 0.9856 - val_loss: 0.0241 - val_fn: 9.0000 - val_fp: 422.0000 - val_tn: 56464.0000 - val_tp: 66.0000 - val_precision: 0.1352 - val_recall: 0.8800 - 7s/epoch - 64ms/step\n",
      "Epoch 14/30\n",
      "112/112 - 7s - loss: 4.3269e-07 - fn: 6.0000 - fp: 4144.0000 - tn: 223285.0000 - tp: 411.0000 - precision: 0.0902 - recall: 0.9856 - val_loss: 0.0237 - val_fn: 9.0000 - val_fp: 483.0000 - val_tn: 56403.0000 - val_tp: 66.0000 - val_precision: 0.1202 - val_recall: 0.8800 - 7s/epoch - 63ms/step\n",
      "Epoch 15/30\n",
      "112/112 - 7s - loss: 3.4154e-07 - fn: 4.0000 - fp: 3820.0000 - tn: 223609.0000 - tp: 413.0000 - precision: 0.0976 - recall: 0.9904 - val_loss: 0.0230 - val_fn: 7.0000 - val_fp: 554.0000 - val_tn: 56332.0000 - val_tp: 68.0000 - val_precision: 0.1093 - val_recall: 0.9067 - 7s/epoch - 63ms/step\n",
      "Epoch 16/30\n",
      "112/112 - 7s - loss: 5.7381e-07 - fn: 5.0000 - fp: 5352.0000 - tn: 222077.0000 - tp: 412.0000 - precision: 0.0715 - recall: 0.9880 - val_loss: 0.0333 - val_fn: 10.0000 - val_fp: 657.0000 - val_tn: 56229.0000 - val_tp: 65.0000 - val_precision: 0.0900 - val_recall: 0.8667 - 7s/epoch - 64ms/step\n",
      "Epoch 17/30\n",
      "112/112 - 7s - loss: 4.6056e-07 - fn: 8.0000 - fp: 4540.0000 - tn: 222889.0000 - tp: 409.0000 - precision: 0.0826 - recall: 0.9808 - val_loss: 0.0293 - val_fn: 8.0000 - val_fp: 706.0000 - val_tn: 56180.0000 - val_tp: 67.0000 - val_precision: 0.0867 - val_recall: 0.8933 - 7s/epoch - 63ms/step\n",
      "Epoch 18/30\n",
      "112/112 - 7s - loss: 4.8863e-07 - fn: 6.0000 - fp: 5531.0000 - tn: 221898.0000 - tp: 411.0000 - precision: 0.0692 - recall: 0.9856 - val_loss: 0.0205 - val_fn: 8.0000 - val_fp: 465.0000 - val_tn: 56421.0000 - val_tp: 67.0000 - val_precision: 0.1259 - val_recall: 0.8933 - 7s/epoch - 64ms/step\n",
      "Epoch 19/30\n",
      "112/112 - 7s - loss: 3.2119e-07 - fn: 4.0000 - fp: 3386.0000 - tn: 224043.0000 - tp: 413.0000 - precision: 0.1087 - recall: 0.9904 - val_loss: 0.0694 - val_fn: 7.0000 - val_fp: 1277.0000 - val_tn: 55609.0000 - val_tp: 68.0000 - val_precision: 0.0506 - val_recall: 0.9067 - 7s/epoch - 61ms/step\n",
      "Epoch 20/30\n",
      "112/112 - 7s - loss: 5.1196e-07 - fn: 3.0000 - fp: 3915.0000 - tn: 223514.0000 - tp: 414.0000 - precision: 0.0956 - recall: 0.9928 - val_loss: 0.0453 - val_fn: 10.0000 - val_fp: 513.0000 - val_tn: 56373.0000 - val_tp: 65.0000 - val_precision: 0.1125 - val_recall: 0.8667 - 7s/epoch - 63ms/step\n",
      "Epoch 21/30\n",
      "112/112 - 7s - loss: 1.0855e-06 - fn: 10.0000 - fp: 5689.0000 - tn: 221740.0000 - tp: 407.0000 - precision: 0.0668 - recall: 0.9760 - val_loss: 0.0704 - val_fn: 8.0000 - val_fp: 974.0000 - val_tn: 55912.0000 - val_tp: 67.0000 - val_precision: 0.0644 - val_recall: 0.8933 - 7s/epoch - 61ms/step\n",
      "Epoch 22/30\n",
      "112/112 - 6s - loss: 6.9648e-07 - fn: 11.0000 - fp: 4681.0000 - tn: 222748.0000 - tp: 406.0000 - precision: 0.0798 - recall: 0.9736 - val_loss: 0.0475 - val_fn: 10.0000 - val_fp: 845.0000 - val_tn: 56041.0000 - val_tp: 65.0000 - val_precision: 0.0714 - val_recall: 0.8667 - 6s/epoch - 57ms/step\n",
      "Epoch 23/30\n",
      "112/112 - 7s - loss: 5.7518e-07 - fn: 4.0000 - fp: 2850.0000 - tn: 224579.0000 - tp: 413.0000 - precision: 0.1266 - recall: 0.9904 - val_loss: 0.5646 - val_fn: 6.0000 - val_fp: 2593.0000 - val_tn: 54293.0000 - val_tp: 69.0000 - val_precision: 0.0259 - val_recall: 0.9200 - 7s/epoch - 65ms/step\n",
      "Epoch 24/30\n",
      "112/112 - 7s - loss: 3.3688e-06 - fn: 15.0000 - fp: 6876.0000 - tn: 220553.0000 - tp: 402.0000 - precision: 0.0552 - recall: 0.9640 - val_loss: 0.2899 - val_fn: 7.0000 - val_fp: 2855.0000 - val_tn: 54031.0000 - val_tp: 68.0000 - val_precision: 0.0233 - val_recall: 0.9067 - 7s/epoch - 59ms/step\n",
      "Epoch 25/30\n",
      "112/112 - 7s - loss: 1.1064e-06 - fn: 13.0000 - fp: 6450.0000 - tn: 220979.0000 - tp: 404.0000 - precision: 0.0589 - recall: 0.9688 - val_loss: 0.0446 - val_fn: 7.0000 - val_fp: 796.0000 - val_tn: 56090.0000 - val_tp: 68.0000 - val_precision: 0.0787 - val_recall: 0.9067 - 7s/epoch - 64ms/step\n",
      "Epoch 26/30\n",
      "112/112 - 7s - loss: 3.8399e-07 - fn: 5.0000 - fp: 3599.0000 - tn: 223830.0000 - tp: 412.0000 - precision: 0.1027 - recall: 0.9880 - val_loss: 0.0580 - val_fn: 6.0000 - val_fp: 1260.0000 - val_tn: 55626.0000 - val_tp: 69.0000 - val_precision: 0.0519 - val_recall: 0.9200 - 7s/epoch - 62ms/step\n",
      "Epoch 27/30\n",
      "112/112 - 7s - loss: 2.8152e-07 - fn: 2.0000 - fp: 3132.0000 - tn: 224297.0000 - tp: 415.0000 - precision: 0.1170 - recall: 0.9952 - val_loss: 0.0143 - val_fn: 10.0000 - val_fp: 270.0000 - val_tn: 56616.0000 - val_tp: 65.0000 - val_precision: 0.1940 - val_recall: 0.8667 - 7s/epoch - 64ms/step\n"
     ]
    },
    {
     "name": "stdout",
     "output_type": "stream",
     "text": [
      "Epoch 28/30\n",
      "112/112 - 7s - loss: 3.0327e-07 - fn: 2.0000 - fp: 3347.0000 - tn: 224082.0000 - tp: 415.0000 - precision: 0.1103 - recall: 0.9952 - val_loss: 0.0185 - val_fn: 9.0000 - val_fp: 384.0000 - val_tn: 56502.0000 - val_tp: 66.0000 - val_precision: 0.1467 - val_recall: 0.8800 - 7s/epoch - 62ms/step\n",
      "Epoch 29/30\n",
      "112/112 - 7s - loss: 2.6015e-07 - fn: 2.0000 - fp: 2775.0000 - tn: 224654.0000 - tp: 415.0000 - precision: 0.1301 - recall: 0.9952 - val_loss: 0.0112 - val_fn: 13.0000 - val_fp: 208.0000 - val_tn: 56678.0000 - val_tp: 62.0000 - val_precision: 0.2296 - val_recall: 0.8267 - 7s/epoch - 64ms/step\n",
      "Epoch 30/30\n",
      "112/112 - 7s - loss: 2.2532e-07 - fn: 4.0000 - fp: 2313.0000 - tn: 225116.0000 - tp: 413.0000 - precision: 0.1515 - recall: 0.9904 - val_loss: 0.0170 - val_fn: 11.0000 - val_fp: 365.0000 - val_tn: 56521.0000 - val_tp: 64.0000 - val_precision: 0.1492 - val_recall: 0.8533 - 7s/epoch - 63ms/step\n"
     ]
    },
    {
     "data": {
      "text/plain": [
       "<keras.callbacks.History at 0x1a17fd4e6a0>"
      ]
     },
     "execution_count": 17,
     "metadata": {},
     "output_type": "execute_result"
    }
   ],
   "source": [
    "metrics = [\n",
    "    keras.metrics.FalseNegatives(name=\"fn\"),\n",
    "    keras.metrics.FalsePositives(name=\"fp\"),\n",
    "    keras.metrics.TrueNegatives(name=\"tn\"),\n",
    "    keras.metrics.TruePositives(name=\"tp\"),\n",
    "    keras.metrics.Precision(name=\"precision\"),\n",
    "    keras.metrics.Recall(name=\"recall\"),\n",
    "]\n",
    "\n",
    "model.compile(\n",
    "    optimizer=keras.optimizers.Adam(1e-2), loss=\"binary_crossentropy\", metrics=metrics\n",
    ")\n",
    "\n",
    "callbacks = [keras.callbacks.ModelCheckpoint(\"fraud_model_at_epoch_{epoch}.h5\")]\n",
    "class_weight = {0: weight_for_0, 1: weight_for_1}\n",
    "\n",
    "model.fit(\n",
    "    train_features,\n",
    "    train_targets,\n",
    "    batch_size=2048,\n",
    "    epochs=30,\n",
    "    verbose=2,\n",
    "    callbacks=callbacks,\n",
    "    validation_data=(val_features, val_targets),\n",
    "    class_weight=class_weight,\n",
    ")"
   ]
  },
  {
   "cell_type": "code",
   "execution_count": null,
   "id": "703b6927",
   "metadata": {},
   "outputs": [],
   "source": []
  },
  {
   "cell_type": "code",
   "execution_count": null,
   "id": "8087271a",
   "metadata": {},
   "outputs": [],
   "source": []
  }
 ],
 "metadata": {
  "kernelspec": {
   "display_name": "Python 3 (ipykernel)",
   "language": "python",
   "name": "python3"
  },
  "language_info": {
   "codemirror_mode": {
    "name": "ipython",
    "version": 3
   },
   "file_extension": ".py",
   "mimetype": "text/x-python",
   "name": "python",
   "nbconvert_exporter": "python",
   "pygments_lexer": "ipython3",
   "version": "3.9.7"
  }
 },
 "nbformat": 4,
 "nbformat_minor": 5
}
