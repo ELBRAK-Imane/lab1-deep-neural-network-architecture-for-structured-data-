{
 "cells": [
  {
   "cell_type": "code",
   "execution_count": 29,
   "id": "ff8fda0f",
   "metadata": {},
   "outputs": [],
   "source": [
    "#import requirement packages\n",
    "import tensorflow as tf\n",
    "import numpy as np\n",
    "import pandas as pd\n",
    "from tensorflow import keras\n",
    "from tensorflow.keras import layers"
   ]
  },
  {
   "cell_type": "markdown",
   "id": "12dd9e34",
   "metadata": {},
   "source": [
    "# Preparing the data"
   ]
  },
  {
   "cell_type": "code",
   "execution_count": 30,
   "id": "5a712786",
   "metadata": {},
   "outputs": [],
   "source": [
    "#import dataset\n",
    "file_url = \"http://storage.googleapis.com/download.tensorflow.org/data/heart.csv\"\n",
    "dataframe = pd.read_csv(file_url)"
   ]
  },
  {
   "cell_type": "code",
   "execution_count": 31,
   "id": "ef3e4e35",
   "metadata": {},
   "outputs": [
    {
     "data": {
      "text/plain": [
       "(303, 14)"
      ]
     },
     "execution_count": 31,
     "metadata": {},
     "output_type": "execute_result"
    }
   ],
   "source": [
    "#lines and columns\n",
    "dataframe.shape"
   ]
  },
  {
   "cell_type": "code",
   "execution_count": 32,
   "id": "5fbcca13",
   "metadata": {},
   "outputs": [
    {
     "data": {
      "text/html": [
       "<div>\n",
       "<style scoped>\n",
       "    .dataframe tbody tr th:only-of-type {\n",
       "        vertical-align: middle;\n",
       "    }\n",
       "\n",
       "    .dataframe tbody tr th {\n",
       "        vertical-align: top;\n",
       "    }\n",
       "\n",
       "    .dataframe thead th {\n",
       "        text-align: right;\n",
       "    }\n",
       "</style>\n",
       "<table border=\"1\" class=\"dataframe\">\n",
       "  <thead>\n",
       "    <tr style=\"text-align: right;\">\n",
       "      <th></th>\n",
       "      <th>age</th>\n",
       "      <th>sex</th>\n",
       "      <th>cp</th>\n",
       "      <th>trestbps</th>\n",
       "      <th>chol</th>\n",
       "      <th>fbs</th>\n",
       "      <th>restecg</th>\n",
       "      <th>thalach</th>\n",
       "      <th>exang</th>\n",
       "      <th>oldpeak</th>\n",
       "      <th>slope</th>\n",
       "      <th>ca</th>\n",
       "      <th>thal</th>\n",
       "      <th>target</th>\n",
       "    </tr>\n",
       "  </thead>\n",
       "  <tbody>\n",
       "    <tr>\n",
       "      <th>0</th>\n",
       "      <td>63</td>\n",
       "      <td>1</td>\n",
       "      <td>1</td>\n",
       "      <td>145</td>\n",
       "      <td>233</td>\n",
       "      <td>1</td>\n",
       "      <td>2</td>\n",
       "      <td>150</td>\n",
       "      <td>0</td>\n",
       "      <td>2.3</td>\n",
       "      <td>3</td>\n",
       "      <td>0</td>\n",
       "      <td>fixed</td>\n",
       "      <td>0</td>\n",
       "    </tr>\n",
       "    <tr>\n",
       "      <th>1</th>\n",
       "      <td>67</td>\n",
       "      <td>1</td>\n",
       "      <td>4</td>\n",
       "      <td>160</td>\n",
       "      <td>286</td>\n",
       "      <td>0</td>\n",
       "      <td>2</td>\n",
       "      <td>108</td>\n",
       "      <td>1</td>\n",
       "      <td>1.5</td>\n",
       "      <td>2</td>\n",
       "      <td>3</td>\n",
       "      <td>normal</td>\n",
       "      <td>1</td>\n",
       "    </tr>\n",
       "    <tr>\n",
       "      <th>2</th>\n",
       "      <td>67</td>\n",
       "      <td>1</td>\n",
       "      <td>4</td>\n",
       "      <td>120</td>\n",
       "      <td>229</td>\n",
       "      <td>0</td>\n",
       "      <td>2</td>\n",
       "      <td>129</td>\n",
       "      <td>1</td>\n",
       "      <td>2.6</td>\n",
       "      <td>2</td>\n",
       "      <td>2</td>\n",
       "      <td>reversible</td>\n",
       "      <td>0</td>\n",
       "    </tr>\n",
       "    <tr>\n",
       "      <th>3</th>\n",
       "      <td>37</td>\n",
       "      <td>1</td>\n",
       "      <td>3</td>\n",
       "      <td>130</td>\n",
       "      <td>250</td>\n",
       "      <td>0</td>\n",
       "      <td>0</td>\n",
       "      <td>187</td>\n",
       "      <td>0</td>\n",
       "      <td>3.5</td>\n",
       "      <td>3</td>\n",
       "      <td>0</td>\n",
       "      <td>normal</td>\n",
       "      <td>0</td>\n",
       "    </tr>\n",
       "    <tr>\n",
       "      <th>4</th>\n",
       "      <td>41</td>\n",
       "      <td>0</td>\n",
       "      <td>2</td>\n",
       "      <td>130</td>\n",
       "      <td>204</td>\n",
       "      <td>0</td>\n",
       "      <td>2</td>\n",
       "      <td>172</td>\n",
       "      <td>0</td>\n",
       "      <td>1.4</td>\n",
       "      <td>1</td>\n",
       "      <td>0</td>\n",
       "      <td>normal</td>\n",
       "      <td>0</td>\n",
       "    </tr>\n",
       "  </tbody>\n",
       "</table>\n",
       "</div>"
      ],
      "text/plain": [
       "   age  sex  cp  trestbps  chol  fbs  restecg  thalach  exang  oldpeak  slope  \\\n",
       "0   63    1   1       145   233    1        2      150      0      2.3      3   \n",
       "1   67    1   4       160   286    0        2      108      1      1.5      2   \n",
       "2   67    1   4       120   229    0        2      129      1      2.6      2   \n",
       "3   37    1   3       130   250    0        0      187      0      3.5      3   \n",
       "4   41    0   2       130   204    0        2      172      0      1.4      1   \n",
       "\n",
       "   ca        thal  target  \n",
       "0   0       fixed       0  \n",
       "1   3      normal       1  \n",
       "2   2  reversible       0  \n",
       "3   0      normal       0  \n",
       "4   0      normal       0  "
      ]
     },
     "execution_count": 32,
     "metadata": {},
     "output_type": "execute_result"
    }
   ],
   "source": [
    "#display the first 5 rows\n",
    "dataframe.head()"
   ]
  },
  {
   "cell_type": "code",
   "execution_count": 33,
   "id": "a0eb558d",
   "metadata": {},
   "outputs": [
    {
     "name": "stdout",
     "output_type": "stream",
     "text": [
      "Using 242 samples for training and 61 for validation\n"
     ]
    }
   ],
   "source": [
    "#split the data into a training (0.8) and validation(0.2)\n",
    "val_dataframe = dataframe.sample(frac=0.2, random_state=1337)\n",
    "train_dataframe = dataframe.drop(val_dataframe.index)\n",
    "\n",
    "print(\n",
    "    \"Using %d samples for training and %d for validation\"\n",
    "    % (len(train_dataframe), len(val_dataframe))\n",
    ")"
   ]
  },
  {
   "cell_type": "code",
   "execution_count": 34,
   "id": "2de15fc3",
   "metadata": {},
   "outputs": [],
   "source": [
    "#convert the dataframe to dataset\n",
    "def dataframe_to_dataset(dataframe):\n",
    "    dataframe = dataframe.copy()\n",
    "    labels = dataframe.pop(\"target\")\n",
    "    ds = tf.data.Dataset.from_tensor_slices((dict(dataframe), labels))\n",
    "    ds = ds.shuffle(buffer_size=len(dataframe))\n",
    "    return ds\n",
    "\n",
    "\n",
    "train_ds = dataframe_to_dataset(train_dataframe)\n",
    "val_ds = dataframe_to_dataset(val_dataframe)"
   ]
  },
  {
   "cell_type": "code",
   "execution_count": 35,
   "id": "58178b7f",
   "metadata": {},
   "outputs": [
    {
     "name": "stdout",
     "output_type": "stream",
     "text": [
      "Input: {'age': <tf.Tensor: shape=(), dtype=int64, numpy=60>, 'sex': <tf.Tensor: shape=(), dtype=int64, numpy=1>, 'cp': <tf.Tensor: shape=(), dtype=int64, numpy=4>, 'trestbps': <tf.Tensor: shape=(), dtype=int64, numpy=145>, 'chol': <tf.Tensor: shape=(), dtype=int64, numpy=282>, 'fbs': <tf.Tensor: shape=(), dtype=int64, numpy=0>, 'restecg': <tf.Tensor: shape=(), dtype=int64, numpy=2>, 'thalach': <tf.Tensor: shape=(), dtype=int64, numpy=142>, 'exang': <tf.Tensor: shape=(), dtype=int64, numpy=1>, 'oldpeak': <tf.Tensor: shape=(), dtype=float64, numpy=2.8>, 'slope': <tf.Tensor: shape=(), dtype=int64, numpy=2>, 'ca': <tf.Tensor: shape=(), dtype=int64, numpy=2>, 'thal': <tf.Tensor: shape=(), dtype=string, numpy=b'reversible'>}\n",
      "Target: tf.Tensor(1, shape=(), dtype=int64)\n"
     ]
    }
   ],
   "source": [
    "#Each Dataset yields a tuple (input, target) where input is a dictionary of features and target in our case is the value 0 or 1\n",
    "for x, y in train_ds.take(1):\n",
    "    print(\"Input:\", x)\n",
    "    print(\"Target:\", y)"
   ]
  },
  {
   "cell_type": "code",
   "execution_count": 46,
   "id": "3d4fabe9",
   "metadata": {},
   "outputs": [
    {
     "name": "stdout",
     "output_type": "stream",
     "text": [
      "<BatchDataset element_spec=({'age': TensorSpec(shape=(None, None, None), dtype=tf.int64, name=None), 'sex': TensorSpec(shape=(None, None, None), dtype=tf.int64, name=None), 'cp': TensorSpec(shape=(None, None, None), dtype=tf.int64, name=None), 'trestbps': TensorSpec(shape=(None, None, None), dtype=tf.int64, name=None), 'chol': TensorSpec(shape=(None, None, None), dtype=tf.int64, name=None), 'fbs': TensorSpec(shape=(None, None, None), dtype=tf.int64, name=None), 'restecg': TensorSpec(shape=(None, None, None), dtype=tf.int64, name=None), 'thalach': TensorSpec(shape=(None, None, None), dtype=tf.int64, name=None), 'exang': TensorSpec(shape=(None, None, None), dtype=tf.int64, name=None), 'oldpeak': TensorSpec(shape=(None, None, None), dtype=tf.float64, name=None), 'slope': TensorSpec(shape=(None, None, None), dtype=tf.int64, name=None), 'ca': TensorSpec(shape=(None, None, None), dtype=tf.int64, name=None), 'thal': TensorSpec(shape=(None, None, None), dtype=tf.string, name=None)}, TensorSpec(shape=(None, None, None), dtype=tf.int64, name=None))>\n",
      "<BatchDataset element_spec=({'age': TensorSpec(shape=(None, None, None, None), dtype=tf.int64, name=None), 'sex': TensorSpec(shape=(None, None, None, None), dtype=tf.int64, name=None), 'cp': TensorSpec(shape=(None, None, None, None), dtype=tf.int64, name=None), 'trestbps': TensorSpec(shape=(None, None, None, None), dtype=tf.int64, name=None), 'chol': TensorSpec(shape=(None, None, None, None), dtype=tf.int64, name=None), 'fbs': TensorSpec(shape=(None, None, None, None), dtype=tf.int64, name=None), 'restecg': TensorSpec(shape=(None, None, None, None), dtype=tf.int64, name=None), 'thalach': TensorSpec(shape=(None, None, None, None), dtype=tf.int64, name=None), 'exang': TensorSpec(shape=(None, None, None, None), dtype=tf.int64, name=None), 'oldpeak': TensorSpec(shape=(None, None, None, None), dtype=tf.float64, name=None), 'slope': TensorSpec(shape=(None, None, None, None), dtype=tf.int64, name=None), 'ca': TensorSpec(shape=(None, None, None, None), dtype=tf.int64, name=None), 'thal': TensorSpec(shape=(None, None, None, None), dtype=tf.string, name=None)}, TensorSpec(shape=(None, None, None, None), dtype=tf.int64, name=None))>\n"
     ]
    }
   ],
   "source": [
    "train_ds = train_ds.batch(32)\n",
    "val_ds = val_ds.batch(32)"
   ]
  },
  {
   "cell_type": "markdown",
   "id": "c41cf2a8",
   "metadata": {},
   "source": [
    "# Feature preprocessing with Keras layers"
   ]
  },
  {
   "cell_type": "code",
   "execution_count": 37,
   "id": "8f13678d",
   "metadata": {},
   "outputs": [],
   "source": [
    "#essential imports \n",
    "from tensorflow.keras.layers import IntegerLookup\n",
    "from tensorflow.keras.layers import Normalization\n",
    "from tensorflow.keras.layers import StringLookup"
   ]
  },
  {
   "cell_type": "code",
   "execution_count": 38,
   "id": "d2e3362e",
   "metadata": {},
   "outputs": [],
   "source": [
    "#apply featurewise normalization to numerical features\n",
    "def encode_numerical_feature(feature, name, dataset):\n",
    "    # Create a Normalization layer for our feature\n",
    "    normalizer = Normalization()\n",
    "\n",
    "    # Prepare a Dataset that only yields our feature\n",
    "    feature_ds = dataset.map(lambda x, y: x[name])\n",
    "    feature_ds = feature_ds.map(lambda x: tf.expand_dims(x, -1))\n",
    "\n",
    "    # Learn the statistics of the data\n",
    "    normalizer.adapt(feature_ds)\n",
    "\n",
    "    # Normalize the input feature\n",
    "    encoded_feature = normalizer(feature)\n",
    "    return encoded_feature\n",
    "# to first turn string inputs into integer indices, then one-hot encode these integer indices.\n",
    "# to one-hot encode integer categorical features\n",
    "\n",
    "def encode_categorical_feature(feature, name, dataset, is_string):\n",
    "    lookup_class = StringLookup if is_string else IntegerLookup\n",
    "    # Create a lookup layer which will turn strings into integer indices\n",
    "    lookup = lookup_class(output_mode=\"binary\")\n",
    "\n",
    "    # Prepare a Dataset that only yields our feature\n",
    "    feature_ds = dataset.map(lambda x, y: x[name])\n",
    "    feature_ds = feature_ds.map(lambda x: tf.expand_dims(x, -1))\n",
    "\n",
    "    # Learn the set of possible string values and assign them a fixed integer index\n",
    "    lookup.adapt(feature_ds)\n",
    "\n",
    "    # Turn the string input into integer indices\n",
    "    encoded_feature = lookup(feature)\n",
    "    return encoded_feature"
   ]
  },
  {
   "cell_type": "code",
   "execution_count": 39,
   "id": "a2f6e947",
   "metadata": {},
   "outputs": [],
   "source": [
    "#create our model\n",
    "# Categorical features encoded as integers\n",
    "sex = keras.Input(shape=(1,), name=\"sex\", dtype=\"int64\")\n",
    "cp = keras.Input(shape=(1,), name=\"cp\", dtype=\"int64\")\n",
    "fbs = keras.Input(shape=(1,), name=\"fbs\", dtype=\"int64\")\n",
    "restecg = keras.Input(shape=(1,), name=\"restecg\", dtype=\"int64\")\n",
    "exang = keras.Input(shape=(1,), name=\"exang\", dtype=\"int64\")\n",
    "ca = keras.Input(shape=(1,), name=\"ca\", dtype=\"int64\")\n",
    "\n",
    "# Categorical feature encoded as string\n",
    "thal = keras.Input(shape=(1,), name=\"thal\", dtype=\"string\")\n",
    "\n",
    "# Numerical features\n",
    "age = keras.Input(shape=(1,), name=\"age\")\n",
    "trestbps = keras.Input(shape=(1,), name=\"trestbps\")\n",
    "chol = keras.Input(shape=(1,), name=\"chol\")\n",
    "thalach = keras.Input(shape=(1,), name=\"thalach\")\n",
    "oldpeak = keras.Input(shape=(1,), name=\"oldpeak\")\n",
    "slope = keras.Input(shape=(1,), name=\"slope\")\n",
    "\n",
    "all_inputs = [\n",
    "    sex,\n",
    "    cp,\n",
    "    fbs,\n",
    "    restecg,\n",
    "    exang,\n",
    "    ca,\n",
    "    thal,\n",
    "    age,\n",
    "    trestbps,\n",
    "    chol,\n",
    "    thalach,\n",
    "    oldpeak,\n",
    "    slope,\n",
    "]\n",
    "\n",
    "# Integer categorical features\n",
    "sex_encoded = encode_categorical_feature(sex, \"sex\", train_ds, False)\n",
    "cp_encoded = encode_categorical_feature(cp, \"cp\", train_ds, False)\n",
    "fbs_encoded = encode_categorical_feature(fbs, \"fbs\", train_ds, False)\n",
    "restecg_encoded = encode_categorical_feature(restecg, \"restecg\", train_ds, False)\n",
    "exang_encoded = encode_categorical_feature(exang, \"exang\", train_ds, False)\n",
    "ca_encoded = encode_categorical_feature(ca, \"ca\", train_ds, False)\n",
    "\n",
    "# String categorical features\n",
    "thal_encoded = encode_categorical_feature(thal, \"thal\", train_ds, True)\n",
    "\n",
    "# Numerical features\n",
    "age_encoded = encode_numerical_feature(age, \"age\", train_ds)\n",
    "trestbps_encoded = encode_numerical_feature(trestbps, \"trestbps\", train_ds)\n",
    "chol_encoded = encode_numerical_feature(chol, \"chol\", train_ds)\n",
    "thalach_encoded = encode_numerical_feature(thalach, \"thalach\", train_ds)\n",
    "oldpeak_encoded = encode_numerical_feature(oldpeak, \"oldpeak\", train_ds)\n",
    "slope_encoded = encode_numerical_feature(slope, \"slope\", train_ds)\n",
    "\n",
    "all_features = layers.concatenate(\n",
    "    [\n",
    "        sex_encoded,\n",
    "        cp_encoded,\n",
    "        fbs_encoded,\n",
    "        restecg_encoded,\n",
    "        exang_encoded,\n",
    "        slope_encoded,\n",
    "        ca_encoded,\n",
    "        thal_encoded,\n",
    "        age_encoded,\n",
    "        trestbps_encoded,\n",
    "        chol_encoded,\n",
    "        thalach_encoded,\n",
    "        oldpeak_encoded,\n",
    "    ]\n",
    ")\n",
    "x = layers.Dense(32, activation=\"relu\")(all_features)\n",
    "x = layers.Dropout(0.5)(x)\n",
    "output = layers.Dense(1, activation=\"sigmoid\")(x)\n",
    "model = keras.Model(all_inputs, output)\n",
    "model.compile(\"adam\", \"binary_crossentropy\", metrics=[\"accuracy\"])"
   ]
  },
  {
   "cell_type": "code",
   "execution_count": 47,
   "id": "3f9cc268",
   "metadata": {},
   "outputs": [
    {
     "name": "stdout",
     "output_type": "stream",
     "text": [
      "You must install pydot (`pip install pydot`) and install graphviz (see instructions at https://graphviz.gitlab.io/download/) for plot_model to work.\n"
     ]
    }
   ],
   "source": [
    "# visualize our connectivity graph\n",
    "# `rankdir='LR'` is to make the graph horizontal.\n",
    "keras.utils.plot_model(model, show_shapes=True, rankdir=\"LR\")"
   ]
  },
  {
   "cell_type": "markdown",
   "id": "2e13a723",
   "metadata": {},
   "source": [
    "# Train the model"
   ]
  },
  {
   "cell_type": "code",
   "execution_count": 41,
   "id": "067836b8",
   "metadata": {},
   "outputs": [
    {
     "name": "stdout",
     "output_type": "stream",
     "text": [
      "Epoch 1/50\n",
      "8/8 [==============================] - 4s 163ms/step - loss: 0.7137 - accuracy: 0.5413 - val_loss: 0.6283 - val_accuracy: 0.6393\n",
      "Epoch 2/50\n",
      "8/8 [==============================] - 0s 14ms/step - loss: 0.6630 - accuracy: 0.5744 - val_loss: 0.5720 - val_accuracy: 0.6721\n",
      "Epoch 3/50\n",
      "8/8 [==============================] - 0s 13ms/step - loss: 0.6080 - accuracy: 0.6612 - val_loss: 0.5248 - val_accuracy: 0.7377\n",
      "Epoch 4/50\n",
      "8/8 [==============================] - 0s 12ms/step - loss: 0.5633 - accuracy: 0.6983 - val_loss: 0.4897 - val_accuracy: 0.7213\n",
      "Epoch 5/50\n",
      "8/8 [==============================] - 0s 13ms/step - loss: 0.5230 - accuracy: 0.7314 - val_loss: 0.4630 - val_accuracy: 0.7705\n",
      "Epoch 6/50\n",
      "8/8 [==============================] - 0s 11ms/step - loss: 0.5046 - accuracy: 0.7107 - val_loss: 0.4426 - val_accuracy: 0.7869\n",
      "Epoch 7/50\n",
      "8/8 [==============================] - 0s 12ms/step - loss: 0.4826 - accuracy: 0.7479 - val_loss: 0.4271 - val_accuracy: 0.7705\n",
      "Epoch 8/50\n",
      "8/8 [==============================] - 0s 14ms/step - loss: 0.4805 - accuracy: 0.7686 - val_loss: 0.4146 - val_accuracy: 0.7705\n",
      "Epoch 9/50\n",
      "8/8 [==============================] - 0s 10ms/step - loss: 0.4279 - accuracy: 0.8017 - val_loss: 0.4040 - val_accuracy: 0.7705\n",
      "Epoch 10/50\n",
      "8/8 [==============================] - 0s 12ms/step - loss: 0.4338 - accuracy: 0.7975 - val_loss: 0.3956 - val_accuracy: 0.7705\n",
      "Epoch 11/50\n",
      "8/8 [==============================] - 0s 14ms/step - loss: 0.4359 - accuracy: 0.7934 - val_loss: 0.3895 - val_accuracy: 0.8033\n",
      "Epoch 12/50\n",
      "8/8 [==============================] - 0s 13ms/step - loss: 0.4089 - accuracy: 0.8058 - val_loss: 0.3836 - val_accuracy: 0.8033\n",
      "Epoch 13/50\n",
      "8/8 [==============================] - 0s 13ms/step - loss: 0.3975 - accuracy: 0.8140 - val_loss: 0.3784 - val_accuracy: 0.8033\n",
      "Epoch 14/50\n",
      "8/8 [==============================] - 0s 12ms/step - loss: 0.3799 - accuracy: 0.8182 - val_loss: 0.3735 - val_accuracy: 0.8197\n",
      "Epoch 15/50\n",
      "8/8 [==============================] - 0s 12ms/step - loss: 0.3906 - accuracy: 0.8140 - val_loss: 0.3699 - val_accuracy: 0.8197\n",
      "Epoch 16/50\n",
      "8/8 [==============================] - 0s 14ms/step - loss: 0.3842 - accuracy: 0.8347 - val_loss: 0.3671 - val_accuracy: 0.8197\n",
      "Epoch 17/50\n",
      "8/8 [==============================] - 0s 14ms/step - loss: 0.3470 - accuracy: 0.8306 - val_loss: 0.3648 - val_accuracy: 0.8033\n",
      "Epoch 18/50\n",
      "8/8 [==============================] - 0s 13ms/step - loss: 0.3729 - accuracy: 0.8306 - val_loss: 0.3628 - val_accuracy: 0.8033\n",
      "Epoch 19/50\n",
      "8/8 [==============================] - 0s 12ms/step - loss: 0.3705 - accuracy: 0.8430 - val_loss: 0.3608 - val_accuracy: 0.8033\n",
      "Epoch 20/50\n",
      "8/8 [==============================] - 0s 14ms/step - loss: 0.3558 - accuracy: 0.8512 - val_loss: 0.3598 - val_accuracy: 0.8033\n",
      "Epoch 21/50\n",
      "8/8 [==============================] - 0s 15ms/step - loss: 0.3351 - accuracy: 0.8430 - val_loss: 0.3588 - val_accuracy: 0.8033\n",
      "Epoch 22/50\n",
      "8/8 [==============================] - 0s 14ms/step - loss: 0.3435 - accuracy: 0.8595 - val_loss: 0.3570 - val_accuracy: 0.8033\n",
      "Epoch 23/50\n",
      "8/8 [==============================] - 0s 13ms/step - loss: 0.3437 - accuracy: 0.8471 - val_loss: 0.3568 - val_accuracy: 0.8033\n",
      "Epoch 24/50\n",
      "8/8 [==============================] - 0s 13ms/step - loss: 0.3321 - accuracy: 0.8636 - val_loss: 0.3562 - val_accuracy: 0.8033\n",
      "Epoch 25/50\n",
      "8/8 [==============================] - 0s 13ms/step - loss: 0.3231 - accuracy: 0.8595 - val_loss: 0.3557 - val_accuracy: 0.8033\n",
      "Epoch 26/50\n",
      "8/8 [==============================] - 0s 12ms/step - loss: 0.3428 - accuracy: 0.8347 - val_loss: 0.3556 - val_accuracy: 0.8033\n",
      "Epoch 27/50\n",
      "8/8 [==============================] - 0s 14ms/step - loss: 0.3231 - accuracy: 0.8471 - val_loss: 0.3552 - val_accuracy: 0.8033\n",
      "Epoch 28/50\n",
      "8/8 [==============================] - 0s 12ms/step - loss: 0.3081 - accuracy: 0.8884 - val_loss: 0.3554 - val_accuracy: 0.8033\n",
      "Epoch 29/50\n",
      "8/8 [==============================] - 0s 13ms/step - loss: 0.3060 - accuracy: 0.8719 - val_loss: 0.3557 - val_accuracy: 0.8033\n",
      "Epoch 30/50\n",
      "8/8 [==============================] - 0s 13ms/step - loss: 0.3164 - accuracy: 0.8554 - val_loss: 0.3566 - val_accuracy: 0.8033\n",
      "Epoch 31/50\n",
      "8/8 [==============================] - 0s 15ms/step - loss: 0.3155 - accuracy: 0.8843 - val_loss: 0.3568 - val_accuracy: 0.8033\n",
      "Epoch 32/50\n",
      "8/8 [==============================] - 0s 13ms/step - loss: 0.3287 - accuracy: 0.8636 - val_loss: 0.3572 - val_accuracy: 0.8033\n",
      "Epoch 33/50\n",
      "8/8 [==============================] - 0s 12ms/step - loss: 0.2954 - accuracy: 0.8760 - val_loss: 0.3572 - val_accuracy: 0.8033\n",
      "Epoch 34/50\n",
      "8/8 [==============================] - 0s 13ms/step - loss: 0.3026 - accuracy: 0.8554 - val_loss: 0.3577 - val_accuracy: 0.8033\n",
      "Epoch 35/50\n",
      "8/8 [==============================] - 0s 13ms/step - loss: 0.2754 - accuracy: 0.8843 - val_loss: 0.3582 - val_accuracy: 0.8197\n",
      "Epoch 36/50\n",
      "8/8 [==============================] - 0s 13ms/step - loss: 0.2969 - accuracy: 0.8719 - val_loss: 0.3592 - val_accuracy: 0.8361\n",
      "Epoch 37/50\n",
      "8/8 [==============================] - 0s 13ms/step - loss: 0.3071 - accuracy: 0.8595 - val_loss: 0.3596 - val_accuracy: 0.8361\n",
      "Epoch 38/50\n",
      "8/8 [==============================] - 0s 14ms/step - loss: 0.3026 - accuracy: 0.8843 - val_loss: 0.3597 - val_accuracy: 0.8361\n",
      "Epoch 39/50\n",
      "8/8 [==============================] - 0s 14ms/step - loss: 0.2712 - accuracy: 0.8926 - val_loss: 0.3598 - val_accuracy: 0.8361\n",
      "Epoch 40/50\n",
      "8/8 [==============================] - 0s 14ms/step - loss: 0.2937 - accuracy: 0.8760 - val_loss: 0.3606 - val_accuracy: 0.8361\n",
      "Epoch 41/50\n",
      "8/8 [==============================] - 0s 12ms/step - loss: 0.2878 - accuracy: 0.8843 - val_loss: 0.3613 - val_accuracy: 0.8361\n",
      "Epoch 42/50\n",
      "8/8 [==============================] - 0s 10ms/step - loss: 0.3040 - accuracy: 0.8636 - val_loss: 0.3624 - val_accuracy: 0.8361\n",
      "Epoch 43/50\n",
      "8/8 [==============================] - 0s 13ms/step - loss: 0.2873 - accuracy: 0.8760 - val_loss: 0.3626 - val_accuracy: 0.8361\n",
      "Epoch 44/50\n",
      "8/8 [==============================] - 0s 11ms/step - loss: 0.2877 - accuracy: 0.8967 - val_loss: 0.3623 - val_accuracy: 0.8197\n",
      "Epoch 45/50\n",
      "8/8 [==============================] - 0s 10ms/step - loss: 0.2875 - accuracy: 0.8719 - val_loss: 0.3631 - val_accuracy: 0.8197\n",
      "Epoch 46/50\n",
      "8/8 [==============================] - 0s 9ms/step - loss: 0.2889 - accuracy: 0.8884 - val_loss: 0.3633 - val_accuracy: 0.8197\n",
      "Epoch 47/50\n",
      "8/8 [==============================] - 0s 10ms/step - loss: 0.2527 - accuracy: 0.9050 - val_loss: 0.3643 - val_accuracy: 0.8197\n",
      "Epoch 48/50\n",
      "8/8 [==============================] - 0s 13ms/step - loss: 0.2694 - accuracy: 0.9050 - val_loss: 0.3651 - val_accuracy: 0.8197\n",
      "Epoch 49/50\n",
      "8/8 [==============================] - 0s 9ms/step - loss: 0.2905 - accuracy: 0.8760 - val_loss: 0.3661 - val_accuracy: 0.8197\n",
      "Epoch 50/50\n",
      "8/8 [==============================] - 0s 11ms/step - loss: 0.2725 - accuracy: 0.8884 - val_loss: 0.3665 - val_accuracy: 0.8197\n"
     ]
    },
    {
     "data": {
      "text/plain": [
       "<keras.callbacks.History at 0x1ed74f7dd90>"
      ]
     },
     "execution_count": 41,
     "metadata": {},
     "output_type": "execute_result"
    }
   ],
   "source": [
    "model.fit(train_ds, epochs=50, validation_data=val_ds)"
   ]
  },
  {
   "cell_type": "markdown",
   "id": "684a3ea3",
   "metadata": {},
   "source": [
    "# Inference on new data"
   ]
  },
  {
   "cell_type": "code",
   "execution_count": 42,
   "id": "7f8dead6",
   "metadata": {},
   "outputs": [
    {
     "name": "stdout",
     "output_type": "stream",
     "text": [
      "1/1 [==============================] - 1s 792ms/step\n",
      "This particular patient had a 32.3 percent probability of having a heart disease, as evaluated by our model.\n"
     ]
    }
   ],
   "source": [
    "sample = {\n",
    "    \"age\": 60,\n",
    "    \"sex\": 1,\n",
    "    \"cp\": 1,\n",
    "    \"trestbps\": 145,\n",
    "    \"chol\": 233,\n",
    "    \"fbs\": 1,\n",
    "    \"restecg\": 2,\n",
    "    \"thalach\": 150,\n",
    "    \"exang\": 0,\n",
    "    \"oldpeak\": 2.3,\n",
    "    \"slope\": 3,\n",
    "    \"ca\": 0,\n",
    "    \"thal\": \"fixed\",\n",
    "}\n",
    "\n",
    "input_dict = {name: tf.convert_to_tensor([value]) for name, value in sample.items()}\n",
    "predictions = model.predict(input_dict)\n",
    "\n",
    "print(\n",
    "    \"This particular patient had a %.1f percent probability \"\n",
    "    \"of having a heart disease, as evaluated by our model.\" % (100 * predictions[0][0],)\n",
    ")"
   ]
  },
  {
   "cell_type": "code",
   "execution_count": null,
   "id": "f7e2dc98",
   "metadata": {},
   "outputs": [],
   "source": []
  }
 ],
 "metadata": {
  "kernelspec": {
   "display_name": "Python 3 (ipykernel)",
   "language": "python",
   "name": "python3"
  },
  "language_info": {
   "codemirror_mode": {
    "name": "ipython",
    "version": 3
   },
   "file_extension": ".py",
   "mimetype": "text/x-python",
   "name": "python",
   "nbconvert_exporter": "python",
   "pygments_lexer": "ipython3",
   "version": "3.9.7"
  }
 },
 "nbformat": 4,
 "nbformat_minor": 5
}
